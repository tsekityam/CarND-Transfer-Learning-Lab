{
 "cells": [
  {
   "cell_type": "markdown",
   "metadata": {},
   "source": [
    "# Self-Driving Car Engineer Nanodegree\n",
    "\n",
    "## Deep Learning\n",
    "\n",
    "## Project: Build a Traffic Sign Recognition Classifier\n",
    "\n",
    "In this notebook, a template is provided for you to implement your functionality in stages which is required to successfully complete this project. If additional code is required that cannot be included in the notebook, be sure that the Python code is successfully imported and included in your submission, if necessary. Sections that begin with **'Implementation'** in the header indicate where you should begin your implementation for your project. Note that some sections of implementation are optional, and will be marked with **'Optional'** in the header.\n",
    "\n",
    "In addition to implementing code, there will be questions that you must answer which relate to the project and your implementation. Each section where you will answer a question is preceded by a **'Question'** header. Carefully read each question and provide thorough answers in the following text boxes that begin with **'Answer:'**. Your project submission will be evaluated based on your answers to each of the questions and the implementation you provide.\n",
    "\n",
    ">**Note:** Code and Markdown cells can be executed using the **Shift + Enter** keyboard shortcut. In addition, Markdown cells can be edited by typically double-clicking the cell to enter edit mode."
   ]
  },
  {
   "cell_type": "markdown",
   "metadata": {},
   "source": [
    "---\n",
    "## Step 0: Load The Data"
   ]
  },
  {
   "cell_type": "code",
   "execution_count": 16,
   "metadata": {
    "collapsed": false
   },
   "outputs": [
    {
     "name": "stdout",
     "output_type": "stream",
     "text": [
      "\n",
      "Image Shape: (32, 32, 3)\n",
      "\n",
      "Training Set:   40000 samples\n",
      "Validation Set: 10000 samples\n",
      "Test Set:       10000 samples\n"
     ]
    }
   ],
   "source": [
    "from keras.datasets import cifar10\n",
    "from sklearn.model_selection import train_test_split\n",
    "\n",
    "(X_train, y_train), (X_test, y_test) = cifar10.load_data()\n",
    "X_train, X_validation, y_train, y_validation = train_test_split(X_train, y_train, test_size=0.2, random_state=0)\n",
    "\n",
    "assert(len(X_train) == len(y_train))\n",
    "assert(len(X_validation) == len(y_validation))\n",
    "assert(len(X_test) == len(y_test))\n",
    "\n",
    "print()\n",
    "print(\"Image Shape: {}\".format(X_train[0].shape))\n",
    "print()\n",
    "print(\"Training Set:   {} samples\".format(len(X_train)))\n",
    "print(\"Validation Set: {} samples\".format(len(X_validation)))\n",
    "print(\"Test Set:       {} samples\".format(len(X_test)))"
   ]
  },
  {
   "cell_type": "code",
   "execution_count": 17,
   "metadata": {
    "collapsed": false
   },
   "outputs": [
    {
     "name": "stdout",
     "output_type": "stream",
     "text": [
      "Updated label Shape: ()\n"
     ]
    }
   ],
   "source": [
    "import numpy as np\n",
    "\n",
    "y_train = y_train.flatten()\n",
    "y_validation = y_validation.flatten()\n",
    "y_test = y_test.flatten()\n",
    "    \n",
    "print(\"Updated label Shape: {}\".format(y_test[0].shape))"
   ]
  },
  {
   "cell_type": "markdown",
   "metadata": {},
   "source": [
    "----\n",
    "\n",
    "## Step 2: Design and Test a Model Architecture\n",
    "\n",
    "Design and implement a deep learning model that learns to recognize traffic signs. Train and test your model on the [German Traffic Sign Dataset](http://benchmark.ini.rub.de/?section=gtsrb&subsection=dataset).\n",
    "\n",
    "There are various aspects to consider when thinking about this problem:\n",
    "\n",
    "- Neural network architecture\n",
    "- Play around preprocessing techniques (normalization, rgb to grayscale, etc)\n",
    "- Number of examples per label (some have more than others).\n",
    "- Generate fake data.\n",
    "\n",
    "Here is an example of a [published baseline model on this problem](http://yann.lecun.com/exdb/publis/pdf/sermanet-ijcnn-11.pdf). It's not required to be familiar with the approach used in the paper but, it's good practice to try to read papers like these.\n",
    "\n",
    "**NOTE:** The LeNet-5 implementation shown in the [classroom](https://classroom.udacity.com/nanodegrees/nd013/parts/fbf77062-5703-404e-b60c-95b78b2f3f9e/modules/6df7ae49-c61c-4bb2-a23e-6527e69209ec/lessons/601ae704-1035-4287-8b11-e2c2716217ad/concepts/d4aca031-508f-4e0b-b493-e7b706120f81) at the end of the CNN lesson is a solid starting point. You'll have to change the number of classes and possibly the preprocessing, but aside from that it's plug and play!"
   ]
  },
  {
   "cell_type": "markdown",
   "metadata": {},
   "source": [
    "### Implementation\n",
    "\n",
    "Use the code cell (or multiple code cells, if necessary) to implement the first step of your project. Once you have completed your implementation and are satisfied with the results, be sure to thoroughly answer the questions that follow."
   ]
  },
  {
   "cell_type": "code",
   "execution_count": 18,
   "metadata": {
    "collapsed": true
   },
   "outputs": [],
   "source": [
    "### Note: training data are preprocessed."
   ]
  },
  {
   "cell_type": "markdown",
   "metadata": {},
   "source": [
    "### Question 1 \n",
    "\n",
    "_Describe how you preprocessed the data. Why did you choose that technique?_"
   ]
  },
  {
   "cell_type": "markdown",
   "metadata": {},
   "source": [
    "**Answer:**"
   ]
  },
  {
   "cell_type": "markdown",
   "metadata": {
    "collapsed": true
   },
   "source": [
    "The samples in train.p is not in uniform distribution. Some labels have more then 2000 samples, some labels have only ~200 samples. If we perform training on these biased data, our network will be biased too. \n",
    "\n",
    "Let say there are only two labels in our dataset, and we have 900 samples for label _A_, 100 label for label _B_. If our network always claimed that all the training data are in label _A_, then it will reach 90% accuracy. However, in reality, our model knows nothing about label _B_, and it is not reliable at all.\n",
    "\n",
    "In order to solve this issue. I generate new samples by duplicating given training data, such that all labels have the same number of samples.\n",
    "\n",
    "Although we have uniform distributed training data, the same sample may exist in the dataset muliple times, which is not good too. The network trained with these repeated samples maybe overfitted.\n",
    "\n",
    "For example, if we teach our network the meaning of a human with only one image, then our network may think that a football always look exact the same as the one it saw in the image, and any human being taller or shorter then the one in the image may not be classified as _human_.\n",
    "\n",
    "We can solve this problem by adjusting sample images. Affine transformation is the one and only one way I choose. I transform all the sampe images I have randomly. There should be no  two images be the same, or the duplicated samples could not affect overall network accuracy.\n",
    "\n",
    "There are many still many other way to adjust the images, such as changing the brightness of images, however, I didn't do so, because my network reach ~0.95 test accuracy without adjusting the brightness.\n",
    "\n",
    "### The preprocessing step can be found in another notebook, `_Traffic_Sign_Classifier_(Preprocessing)`"
   ]
  },
  {
   "cell_type": "code",
   "execution_count": 19,
   "metadata": {
    "collapsed": true
   },
   "outputs": [],
   "source": [
    "### split training data into training set and validation set, in ratio 4:1.\n",
    "from sklearn.model_selection import train_test_split\n",
    "\n",
    "X_train, X_validation, y_train, y_validation = train_test_split(X_train, y_train, test_size=0.2, random_state=0)"
   ]
  },
  {
   "cell_type": "code",
   "execution_count": 20,
   "metadata": {
    "collapsed": true
   },
   "outputs": [],
   "source": [
    "### shuffle training set\n",
    "from sklearn.utils import shuffle\n",
    "\n",
    "X_train, y_train = shuffle(X_train, y_train, random_state=0)"
   ]
  },
  {
   "cell_type": "markdown",
   "metadata": {},
   "source": [
    "### Question 2\n",
    "\n",
    "_Describe how you set up the training, validation and testing data for your model. **Optional**: If you generated additional data, how did you generate the data? Why did you generate the data? What are the differences in the new dataset (with generated data) from the original dataset?_"
   ]
  },
  {
   "cell_type": "markdown",
   "metadata": {},
   "source": [
    "**Answer:**"
   ]
  },
  {
   "cell_type": "markdown",
   "metadata": {
    "collapsed": true
   },
   "source": [
    "I created training set and validation set from preprocessed training data. 1/5 of training set are selected to be validation set. The selection is in random.\n",
    "\n",
    "Test set are from the given test data. No processing are done on these test data"
   ]
  },
  {
   "cell_type": "code",
   "execution_count": 21,
   "metadata": {
    "collapsed": false
   },
   "outputs": [],
   "source": [
    "import tensorflow as tf\n",
    "\n",
    "EPOCHS = 150\n",
    "BATCH_SIZE = 1024"
   ]
  },
  {
   "cell_type": "code",
   "execution_count": 22,
   "metadata": {
    "collapsed": false
   },
   "outputs": [],
   "source": [
    "from tensorflow.contrib.layers import flatten\n",
    "\n",
    "def LeNet(x, keep_prob):    \n",
    "    # Arguments used for tf.truncated_normal, randomly defines variables for the weights and biases for each layer\n",
    "    mu = 0\n",
    "    sigma = 0.1\n",
    "    \n",
    "    # Layer 1: Convolutional. Input = 32x32x3. Output = 28x28x15.\n",
    "    conv1_W = tf.Variable(tf.truncated_normal(shape=(5, 5, 3, 15), mean = mu, stddev = sigma),name=\"conv1_W\")\n",
    "    conv1_b = tf.Variable(tf.zeros(15),name=\"conv1_b\")\n",
    "    conv1   = tf.nn.conv2d(x, conv1_W, strides=[1, 1, 1, 1], padding='VALID') + conv1_b\n",
    "\n",
    "    # Activation.\n",
    "    conv1 = tf.nn.relu(conv1)\n",
    "\n",
    "    # Pooling. Input = 28x28x15. Output = 14x14x15.\n",
    "    conv1 = tf.nn.max_pool(conv1, ksize=[1, 2, 2, 1], strides=[1, 2, 2, 1], padding='VALID')\n",
    "\n",
    "    # Layer 2: Convolutional. Input = 14x14x15. Output = 10x10x25.\n",
    "    conv2_W = tf.Variable(tf.truncated_normal(shape=(5, 5, 15, 25), mean = mu, stddev = sigma),name=\"conv2_W\")\n",
    "    conv2_b = tf.Variable(tf.zeros(25),name=\"conv2_b\")\n",
    "    conv2   = tf.nn.conv2d(conv1, conv2_W, strides=[1, 1, 1, 1], padding='VALID') + conv2_b\n",
    "    \n",
    "    # Activation.\n",
    "    conv2 = tf.nn.relu(conv2)\n",
    "\n",
    "    # Pooling. Input = 10x10x25. Output = 5x5x25.\n",
    "    conv2 = tf.nn.max_pool(conv2, ksize=[1, 2, 2, 1], strides=[1, 2, 2, 1], padding='VALID')\n",
    "\n",
    "    # Flatten. Input = 5x5x25. Output = 625.\n",
    "    fc0   = flatten(conv2)\n",
    "    \n",
    "    # Dropout.\n",
    "    fc0 = tf.nn.dropout(fc0, keep_prob, seed=0)\n",
    "\n",
    "    # Layer 3: Fully Connected. Input = 625. Output = 150.\n",
    "    fc1_W = tf.Variable(tf.truncated_normal(shape=(625, 150), mean = mu, stddev = sigma),name=\"fc1_W\")\n",
    "    fc1_b = tf.Variable(tf.zeros(150),name=\"fc1_b\")\n",
    "    fc1   = tf.matmul(fc0, fc1_W) + fc1_b\n",
    "    \n",
    "    # Activation.\n",
    "    fc1    = tf.nn.relu(fc1)\n",
    "    \n",
    "    # Dropout.\n",
    "    fc1 = tf.nn.dropout(fc1, keep_prob, seed=0)\n",
    "\n",
    "    # Layer 4: Fully Connected. Input = 150. Output = 100.\n",
    "    fc2_W  = tf.Variable(tf.truncated_normal(shape=(150, 100), mean = mu, stddev = sigma),name=\"fc2_W\")\n",
    "    fc2_b  = tf.Variable(tf.zeros(100),name=\"fc2_b\")\n",
    "    fc2    = tf.matmul(fc1, fc2_W) + fc2_b\n",
    "    \n",
    "    # Activation.\n",
    "    fc2    = tf.nn.relu(fc2)\n",
    "\n",
    "    # Layer 5: Fully Connected. Input = 100. Output = 43.\n",
    "    fc3_W  = tf.Variable(tf.truncated_normal(shape=(100, n_classes), mean = mu, stddev = sigma),name=\"fc3_W\")\n",
    "    fc3_b  = tf.Variable(tf.zeros(n_classes),name=\"fc3_b\")\n",
    "    logits = tf.matmul(fc2, fc3_W) + fc3_b\n",
    "    \n",
    "    return logits"
   ]
  },
  {
   "cell_type": "code",
   "execution_count": 23,
   "metadata": {
    "collapsed": false
   },
   "outputs": [],
   "source": [
    "x = tf.placeholder(tf.float32, (None, 32, 32, 3))\n",
    "y = tf.placeholder(tf.int32, (None))\n",
    "keep_prob = tf.placeholder(tf.float32)\n",
    "one_hot_y = tf.one_hot(y, n_classes)"
   ]
  },
  {
   "cell_type": "markdown",
   "metadata": {},
   "source": [
    "### Question 3\n",
    "\n",
    "_What does your final architecture look like? (Type of model, layers, sizes, connectivity, etc.)  For reference on how to build a deep neural network using TensorFlow, see [Deep Neural Network in TensorFlow\n",
    "](https://classroom.udacity.com/nanodegrees/nd013/parts/fbf77062-5703-404e-b60c-95b78b2f3f9e/modules/6df7ae49-c61c-4bb2-a23e-6527e69209ec/lessons/b516a270-8600-4f93-a0a3-20dfeabe5da6/concepts/83a3a2a2-a9bd-4b7b-95b0-eb924ab14432) from the classroom._\n"
   ]
  },
  {
   "cell_type": "markdown",
   "metadata": {},
   "source": [
    "**Answer:**"
   ]
  },
  {
   "cell_type": "markdown",
   "metadata": {},
   "source": [
    "My network is based on the convolution neural network, LeNet, provided in LeNet Lab. Because traffic signs looks more complicated then the handwritings, so I increase the size of each layer.\n",
    "\n",
    "My network has two convolution layers and three fully connected layers. The details of each layer can be found in below.\n",
    "\n",
    "***************************************\n",
    "\n",
    "Shape: 32x32x32_\n",
    "\n",
    "### layer 1, convolutional\n",
    "##### convolution\n",
    "* filter shape: (5, 5, 3, 15), strides: [1, 1, 1, 1], with valid padding\n",
    "\n",
    "#### relu\n",
    "\n",
    "_Shape: 28x28x15_\n",
    "\n",
    "#### max pool\n",
    "* kernel: [1, 2, 2, 1], strides: [1, 2, 2, 1], with valid padding\n",
    "\n",
    "_Shape: 14x14x15_\n",
    "\n",
    "### layer 2, convolutional\n",
    "##### convolution\n",
    "* filter shape: (5, 5, 15, 25), strides: [1, 1, 1, 1], with valid padding\n",
    "\n",
    "#### relu\n",
    "\n",
    "_Shape: 28x28x15_\n",
    "\n",
    "#### max pool\n",
    "* kernel: [1, 2, 2, 1], strides: [1, 2, 2, 1], with valid padding\n",
    "\n",
    "_Shape: 5x5x25_\n",
    "    \n",
    "#### flatten\n",
    "\n",
    "_Node: 625_\n",
    "\n",
    "#### drop out\n",
    "* keep probability: 0.75(training) or 1.0(testing)\n",
    "\n",
    "_Node: 625_\n",
    "\n",
    "### Layer 3, fully connected\n",
    "#### relu\n",
    "\n",
    "#### drop out\n",
    "* keep probability: 0.75(training) or 1.0(testing)\n",
    "\n",
    "_Node: 150_\n",
    "\n",
    "### Layer 4, fully connected\n",
    "#### relu\n",
    "\n",
    "#### drop out\n",
    "* keep probability: 0.75(training) or 1.0(testing)\n",
    "\n",
    "_Node: 100_\n",
    "\n",
    "### Layer 5, fully connected\n",
    "\n",
    "_Node: 43_\n",
    "\n",
    "***************************************\n",
    "\n",
    "Besides the difference in the layer size, I did add a dropout at the first two fully connected layer. Adding dropout helps reduce the rate of overfitting. I didn't add the dropout to the last fully connected layer, because the properties available on the layer is just 100. Both of them may be an important feature and dropping anyone of them may lead to model to underfitting."
   ]
  },
  {
   "cell_type": "code",
   "execution_count": 24,
   "metadata": {
    "collapsed": false
   },
   "outputs": [],
   "source": [
    "rate = 0.001\n",
    "\n",
    "logits = LeNet(x, keep_prob)\n",
    "cross_entropy = tf.nn.softmax_cross_entropy_with_logits(logits, one_hot_y)\n",
    "loss_operation = tf.reduce_mean(cross_entropy)\n",
    "optimizer = tf.train.AdamOptimizer(learning_rate = rate)\n",
    "training_operation = optimizer.minimize(loss_operation)"
   ]
  },
  {
   "cell_type": "code",
   "execution_count": null,
   "metadata": {
    "collapsed": true
   },
   "outputs": [],
   "source": [
    "correct_prediction = tf.equal(tf.argmax(logits, 1), tf.argmax(one_hot_y, 1))\n",
    "accuracy_operation = tf.reduce_mean(tf.cast(correct_prediction, tf.float32))\n",
    "saver = tf.train.Saver()\n",
    "# The file path to save the data\n",
    "save_file = './model.ckpt'\n",
    "\n",
    "def evaluate(X_data, y_data):\n",
    "    num_examples = len(X_data)\n",
    "    total_accuracy = 0\n",
    "    sess = tf.get_default_session()\n",
    "    for offset in range(0, num_examples, BATCH_SIZE):\n",
    "        batch_x, batch_y = X_data[offset:offset+BATCH_SIZE], y_data[offset:offset+BATCH_SIZE]\n",
    "        accuracy = sess.run(accuracy_operation, feed_dict={x: batch_x, y: batch_y, keep_prob: 1.0})\n",
    "        total_accuracy += (accuracy * len(batch_x))\n",
    "    return total_accuracy / num_examples"
   ]
  },
  {
   "cell_type": "code",
   "execution_count": null,
   "metadata": {
    "collapsed": false
   },
   "outputs": [
    {
     "name": "stdout",
     "output_type": "stream",
     "text": [
      "Training...\n",
      "\n",
      "EPOCH 1 ...\n",
      "Training Accuracy = 0.102\n",
      "Validation Accuracy = 0.103\n",
      "\n",
      "EPOCH 2 ...\n",
      "Training Accuracy = 0.104\n",
      "Validation Accuracy = 0.104\n",
      "\n",
      "EPOCH 3 ...\n",
      "Training Accuracy = 0.116\n",
      "Validation Accuracy = 0.110\n",
      "\n",
      "EPOCH 4 ...\n",
      "Training Accuracy = 0.123\n",
      "Validation Accuracy = 0.115\n",
      "\n",
      "EPOCH 5 ...\n",
      "Training Accuracy = 0.132\n",
      "Validation Accuracy = 0.124\n",
      "\n",
      "EPOCH 6 ...\n",
      "Training Accuracy = 0.152\n",
      "Validation Accuracy = 0.145\n",
      "\n",
      "EPOCH 7 ...\n",
      "Training Accuracy = 0.162\n",
      "Validation Accuracy = 0.160\n",
      "\n",
      "EPOCH 8 ...\n",
      "Training Accuracy = 0.181\n",
      "Validation Accuracy = 0.174\n",
      "\n",
      "EPOCH 9 ...\n",
      "Training Accuracy = 0.189\n",
      "Validation Accuracy = 0.184\n",
      "\n",
      "EPOCH 10 ...\n",
      "Training Accuracy = 0.215\n",
      "Validation Accuracy = 0.212\n",
      "\n",
      "EPOCH 11 ...\n",
      "Training Accuracy = 0.222\n",
      "Validation Accuracy = 0.225\n",
      "\n",
      "EPOCH 12 ...\n",
      "Training Accuracy = 0.215\n",
      "Validation Accuracy = 0.209\n",
      "\n",
      "EPOCH 13 ...\n",
      "Training Accuracy = 0.227\n",
      "Validation Accuracy = 0.224\n",
      "\n",
      "EPOCH 14 ...\n",
      "Training Accuracy = 0.235\n",
      "Validation Accuracy = 0.233\n",
      "\n",
      "EPOCH 15 ...\n",
      "Training Accuracy = 0.250\n",
      "Validation Accuracy = 0.243\n",
      "\n",
      "EPOCH 16 ...\n",
      "Training Accuracy = 0.257\n",
      "Validation Accuracy = 0.251\n",
      "\n",
      "EPOCH 17 ...\n",
      "Training Accuracy = 0.264\n",
      "Validation Accuracy = 0.256\n",
      "\n",
      "EPOCH 18 ...\n",
      "Training Accuracy = 0.267\n",
      "Validation Accuracy = 0.257\n",
      "\n",
      "EPOCH 19 ...\n",
      "Training Accuracy = 0.264\n",
      "Validation Accuracy = 0.259\n",
      "\n",
      "EPOCH 20 ...\n",
      "Training Accuracy = 0.276\n",
      "Validation Accuracy = 0.266\n",
      "\n",
      "EPOCH 21 ...\n",
      "Training Accuracy = 0.277\n",
      "Validation Accuracy = 0.269\n",
      "\n",
      "EPOCH 22 ...\n",
      "Training Accuracy = 0.281\n",
      "Validation Accuracy = 0.276\n",
      "\n",
      "EPOCH 23 ...\n",
      "Training Accuracy = 0.287\n",
      "Validation Accuracy = 0.277\n",
      "\n",
      "EPOCH 24 ...\n",
      "Training Accuracy = 0.292\n",
      "Validation Accuracy = 0.278\n",
      "\n",
      "EPOCH 25 ...\n",
      "Training Accuracy = 0.298\n",
      "Validation Accuracy = 0.289\n",
      "\n"
     ]
    }
   ],
   "source": [
    "with tf.Session() as sess:\n",
    "    sess.run(tf.global_variables_initializer())\n",
    "    num_examples = len(X_train)\n",
    "    \n",
    "    print(\"Training...\")\n",
    "    print()\n",
    "    for i in range(EPOCHS):\n",
    "        X_train, y_train = shuffle(X_train, y_train, random_state=0)\n",
    "        for offset in range(0, num_examples, BATCH_SIZE):\n",
    "            end = offset + BATCH_SIZE\n",
    "            batch_x, batch_y = X_train[offset:end], y_train[offset:end]\n",
    "            sess.run(training_operation, feed_dict={x: batch_x, y: batch_y, keep_prob: 0.75})\n",
    "            \n",
    "        training_accuracy = evaluate(X_train, y_train)\n",
    "        validation_accuracy = evaluate(X_validation, y_validation)\n",
    "        print(\"EPOCH {} ...\".format(i+1))\n",
    "        print(\"Training Accuracy = {:.3f}\".format(training_accuracy))\n",
    "        print(\"Validation Accuracy = {:.3f}\".format(validation_accuracy))\n",
    "        print()\n",
    "        \n",
    "    # Save the model\n",
    "    saver.save(sess, save_file)"
   ]
  },
  {
   "cell_type": "code",
   "execution_count": null,
   "metadata": {
    "collapsed": false
   },
   "outputs": [],
   "source": [
    "with tf.Session() as sess:\n",
    "    saver.restore(sess, save_file)\n",
    "\n",
    "    test_accuracy = evaluate(X_test, y_test)\n",
    "    print(\"Test Accuracy = {:.3f}\".format(test_accuracy))"
   ]
  },
  {
   "cell_type": "markdown",
   "metadata": {},
   "source": [
    "### Question 4\n",
    "\n",
    "_How did you train your model? (Type of optimizer, batch size, epochs, hyperparameters, etc.)_\n"
   ]
  },
  {
   "cell_type": "markdown",
   "metadata": {},
   "source": [
    "**Answer:**"
   ]
  },
  {
   "cell_type": "markdown",
   "metadata": {},
   "source": [
    "I have increased the batch size of the network. Because we have a powerful machine, which can handle more then 200 sample in a batch, for training, so we can use a higher batch number.\n",
    "\n",
    "On the other hand, each epoch can be finished in a shorter time, we can increse the number of epochs too.\n",
    "\n",
    "AdamOptimizer used in LeNet looks working well in our network, so I didn't change it."
   ]
  },
  {
   "cell_type": "markdown",
   "metadata": {},
   "source": [
    "### Question 5\n",
    "\n",
    "\n",
    "_What approach did you take in coming up with a solution to this problem? It may have been a process of trial and error, in which case, outline the steps you took to get to the final solution and why you chose those steps. Perhaps your solution involved an already well known implementation or architecture. In this case, discuss why you think this is suitable for the current problem._"
   ]
  },
  {
   "cell_type": "markdown",
   "metadata": {},
   "source": [
    "**Answer:**"
   ]
  },
  {
   "cell_type": "markdown",
   "metadata": {},
   "source": [
    "Wothout changing any parameter of LeNet, the accuracy is ~0.9\n",
    "\n",
    "At the begining, I did muliple the size of each layer by 10, and I found out that the accuracy is lower then without modifying any parameter in LeNet. I though my network is overfitting, so I tried use a smaller learning rate, but no help.\n",
    "\n",
    "Then I try use a smaller muliplier, and the accuracy became better and better. Finally it reach training accuracy ~0.97 and test accuracy ~0.92.\n",
    "\n",
    "The diff between them should be related to overfitting, so I applied dropout.\n",
    "\n",
    "First I tried adding drop out to all fully connected layer. The accuracy suddenly dropped to 0.02, which means my network is almost use guessing to determine the label.\n",
    "\n",
    "I noticed that I may drop too much from the layer, so I reduce the number of dropout layer and increse the keep properties.\n",
    "\n",
    "Finally my network reaches ~0.99 training accuracy and ~0.95 test accuracy."
   ]
  }
 ],
 "metadata": {
  "anaconda-cloud": {},
  "kernelspec": {
   "display_name": "Python 3",
   "language": "python",
   "name": "python3"
  },
  "language_info": {
   "codemirror_mode": {
    "name": "ipython",
    "version": 3
   },
   "file_extension": ".py",
   "mimetype": "text/x-python",
   "name": "python",
   "nbconvert_exporter": "python",
   "pygments_lexer": "ipython3",
   "version": "3.5.2"
  },
  "widgets": {
   "state": {},
   "version": "1.1.2"
  }
 },
 "nbformat": 4,
 "nbformat_minor": 1
}
